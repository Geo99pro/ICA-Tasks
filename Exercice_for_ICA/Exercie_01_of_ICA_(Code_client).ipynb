{
 "cells": [
  {
   "attachments": {},
   "cell_type": "markdown",
   "metadata": {},
   "source": [
    "# Source that helped me to do this part\n",
    "1. https://www.tresfacile.net/la-bibliotheque-python-requests/\n",
    "2. https://towardsdatascience.com/how-to-convert-json-into-a-pandas-dataframe-100b2ae1e0d8"
   ]
  },
  {
   "attachments": {
    "image.png": {
     "image/png": "[encoded data removed]"
    }
   },
   "cell_type": "markdown",
   "metadata": {},
   "source": [
    "![image.png](attachment:image.png)"
   ]
  },
  {
   "cell_type": "code",
   "execution_count": 13,
   "metadata": {},
   "outputs": [],
   "source": [
    "import requests\n",
    "import pandas as pd"
   ]
  },
  {
   "attachments": {},
   "cell_type": "markdown",
   "metadata": {},
   "source": [
    "# Section file of type txt"
   ]
  },
  {
   "attachments": {},
   "cell_type": "markdown",
   "metadata": {},
   "source": [
    "## Section 1:  \n",
    "1. url receives the link of the task to perform ==> create a file,\n",
    "2. file_name : must receive the name of the file to create,\n",
    "3. content_of_the_file : must receive the text that must be passed in the file.\n"
   ]
  },
  {
   "cell_type": "code",
   "execution_count": 14,
   "metadata": {},
   "outputs": [
    {
     "name": "stdout",
     "output_type": "stream",
     "text": [
      "{'It contains the following text': 'Hello ! There are someone here ? ', 'The name of your file is': 'My first file'}\n"
     ]
    }
   ],
   "source": [
    "url = 'http://127.0.0.1:5000/create_file'\n",
    "data = {'file_name': 'My first file', 'content_of_the_file': 'Hello ! There are someone here ? '}\n",
    "response = requests.post(url, json = data)\n",
    "print(response.json())"
   ]
  },
  {
   "attachments": {},
   "cell_type": "markdown",
   "metadata": {},
   "source": [
    "## Section 2\n",
    "1. url receives the link of the assignment to perform ==> read the content of the file,\n",
    "2. file_name : must receive the name of the file to read."
   ]
  },
  {
   "cell_type": "code",
   "execution_count": 15,
   "metadata": {},
   "outputs": [
    {
     "name": "stdout",
     "output_type": "stream",
     "text": [
      "{'The name of the file you are reading is': 'My first file', 'This is the content of this file': 'Hello ! There are someone here ? '}\n"
     ]
    }
   ],
   "source": [
    "url = 'http://127.0.0.1:5000/read_file'\n",
    "data = {'file_name': 'My first file'}\n",
    "response = requests.get(url, json = data)\n",
    "print(response.json())"
   ]
  },
  {
   "attachments": {},
   "cell_type": "markdown",
   "metadata": {},
   "source": [
    "## Section 3\n",
    "1. url receives the link of the task to perform ==> edit the existing file,\n",
    "2. file_name : must receive the name and the extention (.txt) of the file we want to editate,\n",
    "3. content_of_the_file : must receive the new text that must be passed in the file."
   ]
  },
  {
   "cell_type": "code",
   "execution_count": 16,
   "metadata": {},
   "outputs": [
    {
     "name": "stdout",
     "output_type": "stream",
     "text": [
      "{'Notification': 'The file has been edited. Go to the section read to see your update ;)'}\n"
     ]
    }
   ],
   "source": [
    "url = 'http://127.0.0.1:5000/editar_file'\n",
    "data = {'file_name': 'My first file.txt', 'content_of_the_file': 'Hello my dear !' }\n",
    "response = requests.put(url, json = data)\n",
    "print(response.json())"
   ]
  },
  {
   "attachments": {},
   "cell_type": "markdown",
   "metadata": {},
   "source": [
    "## Section 4\n",
    "1. url receives the link of the task to perform ==> delet the existing file,\n",
    "2. file_name : must receive the name and the extention (.txt) of the file we want to delete.\n",
    "\n",
    "**NB : The name of the file must be equal as that one who was created previously.**"
   ]
  },
  {
   "cell_type": "code",
   "execution_count": 17,
   "metadata": {},
   "outputs": [
    {
     "name": "stdout",
     "output_type": "stream",
     "text": [
      "{'Notification': 'File deleted with success'}\n"
     ]
    }
   ],
   "source": [
    "url = 'http://127.0.0.1:5000/delete_file'\n",
    "data = {'file_name': 'My first file.txt' }\n",
    "response = requests.delete(url, json = data)\n",
    "print(response.json())"
   ]
  },
  {
   "attachments": {},
   "cell_type": "markdown",
   "metadata": {},
   "source": [
    "# Section file of type csv "
   ]
  },
  {
   "attachments": {},
   "cell_type": "markdown",
   "metadata": {},
   "source": [
    "## Section 1:  Request for creation of file csv\n",
    "1. url receives the link of the task to perform ==> create a file csv,\n",
    "2. file_name: must receive the name of the file to create,\n",
    "3. columns: must receive the name of each column of the file.\n",
    "4. dataset (rows): must receive the content of each column"
   ]
  },
  {
   "cell_type": "code",
   "execution_count": 18,
   "metadata": {},
   "outputs": [
    {
     "name": "stdout",
     "output_type": "stream",
     "text": [
      "Notification: Your movie list has been successfully created as List of the movie.csv\n"
     ]
    }
   ],
   "source": [
    "url = 'http://127.0.0.1:5000/create_file_csv'\n",
    "data = {'columns': ['Name', 'Rating', 'Duration', 'Year', 'Genre'],\n",
    "        \n",
    "        'dataset': [{'Name': 'Naruto : Road of ninja', 'Rating': 10, 'Duration': '180', 'Year': 2010,'Genre': 'Action'}, \n",
    "                        {'Name': 'Boruto', 'Rating': 10, 'Duration': 90, 'Year': 2022,'Genre': 'Action'}, \n",
    "                        {'Name': 'Avatar', 'Rating': 10, 'Duration': 90, 'Year': 2009,'Genre': 'Adventure'},\n",
    "                        {'Name': 'Nicky Larson', 'Rating': 8.5, 'Duration': 180, 'Year': 1999,'Genre': 'Action'}, \n",
    "                        {'Name': 'Vikings', 'Rating': 7, 'Duration': 120, 'Year': 1958,'Genre': 'Drama'}, \n",
    "                        {'Name': 'Mortal Combat', 'Rating': 10, 'Duration': 120, 'Year': 2015,'Genre': 'Action'}, \n",
    "                        {'Name': 'The Godfather', 'Rating': 9.2, 'Duration': 175, 'Year': 1972,'Genre': 'Crime'}, \n",
    "                        {'Name': 'Fight club', 'Rating': 8.8, 'Duration': 139, 'Year': 1999,'Genre': 'Drama'}, \n",
    "                        {'Name': 'Assassin Ninja', 'Rating': 10, 'Duration': 180, 'Year': 2015,'Genre': 'Action'}, \n",
    "                        {'Name': 'Bad boy', 'Rating': 10, 'Duration': 180, 'Year': 2019,'Genre': 'Comedie'}, \n",
    "                        {'Name': 'Super Man', 'Rating': 10, 'Duration': 160, 'Year': 2011,'Genre': 'Action'}, \n",
    "                        {'Name': 'Thor', 'Rating': 10, 'Duration': 180, 'Year': 2022,'Genre': 'Action'},\n",
    "                        {'Name': 'Hulk', 'Rating': 10, 'Duration': 180, 'Year': 2017,'Genre': 'Action'},\n",
    "                        {'Name': 'Lucky Luck', 'Rating': 5, 'Duration': 80, 'Year': 1999,'Genre': 'Adventure'}, \n",
    "                        {'Name': 'Batman', 'Rating': 10, 'Duration': 180, 'Year': 2021,'Genre': 'Action'},\n",
    "                        {'Name': 'Bob l_eponge', 'Rating': 10, 'Duration': 180, 'Year': 2009,'Genre': 'Action'},\n",
    "                        {'Name': 'Blanche Neige', 'Rating': 2.5, 'Duration': 140, 'Year': 2001,'Genre': 'Adventure'},\n",
    "                        {'Name': 'Fantastic Four', 'Rating': 10, 'Duration': 180, 'Year': 2015,'Genre': 'Action'}, \n",
    "                        {'Name': 'Avengers', 'Rating': 10, 'Duration': 180, 'Year': 2022,'Genre': 'Action'}, \n",
    "                        {'Name': 'Harry Potter', 'Rating': 9, 'Duration': 180, 'Year': 2018,'Genre': 'Adventure'}], 'file_name': 'List of the movie.csv'}\n",
    "response = requests.post(url, json = data)\n",
    "print(response.json())"
   ]
  },
  {
   "attachments": {},
   "cell_type": "markdown",
   "metadata": {},
   "source": [
    "## Section 2:  Request for reading a file csv created\n",
    "1. url receives the link of the task to perform ==> read a file csv,\n",
    "2. file_name: must receive the name of the file csv"
   ]
  },
  {
   "cell_type": "code",
   "execution_count": 19,
   "metadata": {},
   "outputs": [
    {
     "name": "stdout",
     "output_type": "stream",
     "text": [
      "{'Notification': '{\"Name\":{\"0\":\"Naruto : Road of ninja\",\"1\":\"Boruto\",\"2\":\"Avatar\",\"3\":\"Nicky Larson\",\"4\":\"Vikings\",\"5\":\"Mortal Combat\",\"6\":\"The Godfather\",\"7\":\"Fight club\",\"8\":\"Assassin Ninja\",\"9\":\"Bad boy\",\"10\":\"Super Man\",\"11\":\"Thor\",\"12\":\"Hulk\",\"13\":\"Lucky Luck\",\"14\":\"Batman\",\"15\":\"Bob l_eponge\",\"16\":\"Blanche Neige\",\"17\":\"Fantastic Four\",\"18\":\"Avengers\",\"19\":\"Harry Potter\"},\"Rating\":{\"0\":10.0,\"1\":10.0,\"2\":10.0,\"3\":8.5,\"4\":7.0,\"5\":10.0,\"6\":9.2,\"7\":8.8,\"8\":10.0,\"9\":10.0,\"10\":10.0,\"11\":10.0,\"12\":10.0,\"13\":5.0,\"14\":10.0,\"15\":10.0,\"16\":2.5,\"17\":10.0,\"18\":10.0,\"19\":9.0},\"Duration\":{\"0\":180,\"1\":90,\"2\":90,\"3\":180,\"4\":120,\"5\":120,\"6\":175,\"7\":139,\"8\":180,\"9\":180,\"10\":160,\"11\":180,\"12\":180,\"13\":80,\"14\":180,\"15\":180,\"16\":140,\"17\":180,\"18\":180,\"19\":180},\"Year\":{\"0\":2010,\"1\":2022,\"2\":2009,\"3\":1999,\"4\":1958,\"5\":2015,\"6\":1972,\"7\":1999,\"8\":2015,\"9\":2019,\"10\":2011,\"11\":2022,\"12\":2017,\"13\":1999,\"14\":2021,\"15\":2009,\"16\":2001,\"17\":2015,\"18\":2022,\"19\":2018},\"Genre\":{\"0\":\"Action\",\"1\":\"Action\",\"2\":\"Adventure\",\"3\":\"Action\",\"4\":\"Drama\",\"5\":\"Action\",\"6\":\"Crime\",\"7\":\"Drama\",\"8\":\"Action\",\"9\":\"Comedie\",\"10\":\"Action\",\"11\":\"Action\",\"12\":\"Action\",\"13\":\"Adventure\",\"14\":\"Action\",\"15\":\"Action\",\"16\":\"Adventure\",\"17\":\"Action\",\"18\":\"Action\",\"19\":\"Adventure\"}}'}\n"
     ]
    },
    {
     "data": {
      "text/html": [
       "<div>\n",
       "<style scoped>\n",
       "    .dataframe tbody tr th:only-of-type {\n",
       "        vertical-align: middle;\n",
       "    }\n",
       "\n",
       "    .dataframe tbody tr th {\n",
       "        vertical-align: top;\n",
       "    }\n",
       "\n",
       "    .dataframe thead th {\n",
       "        text-align: right;\n",
       "    }\n",
       "</style>\n",
       "<table border=\"1\" class=\"dataframe\">\n",
       "  <thead>\n",
       "    <tr style=\"text-align: right;\">\n",
       "      <th></th>\n",
       "      <th>Name</th>\n",
       "      <th>Rating</th>\n",
       "      <th>Duration</th>\n",
       "      <th>Year</th>\n",
       "      <th>Genre</th>\n",
       "    </tr>\n",
       "  </thead>\n",
       "  <tbody>\n",
       "    <tr>\n",
       "      <th>0</th>\n",
       "      <td>Naruto : Road of ninja</td>\n",
       "      <td>10.0</td>\n",
       "      <td>180</td>\n",
       "      <td>2010</td>\n",
       "      <td>Action</td>\n",
       "    </tr>\n",
       "    <tr>\n",
       "      <th>1</th>\n",
       "      <td>Boruto</td>\n",
       "      <td>10.0</td>\n",
       "      <td>90</td>\n",
       "      <td>2022</td>\n",
       "      <td>Action</td>\n",
       "    </tr>\n",
       "    <tr>\n",
       "      <th>2</th>\n",
       "      <td>Avatar</td>\n",
       "      <td>10.0</td>\n",
       "      <td>90</td>\n",
       "      <td>2009</td>\n",
       "      <td>Adventure</td>\n",
       "    </tr>\n",
       "    <tr>\n",
       "      <th>3</th>\n",
       "      <td>Nicky Larson</td>\n",
       "      <td>8.5</td>\n",
       "      <td>180</td>\n",
       "      <td>1999</td>\n",
       "      <td>Action</td>\n",
       "    </tr>\n",
       "    <tr>\n",
       "      <th>4</th>\n",
       "      <td>Vikings</td>\n",
       "      <td>7.0</td>\n",
       "      <td>120</td>\n",
       "      <td>1958</td>\n",
       "      <td>Drama</td>\n",
       "    </tr>\n",
       "    <tr>\n",
       "      <th>5</th>\n",
       "      <td>Mortal Combat</td>\n",
       "      <td>10.0</td>\n",
       "      <td>120</td>\n",
       "      <td>2015</td>\n",
       "      <td>Action</td>\n",
       "    </tr>\n",
       "    <tr>\n",
       "      <th>6</th>\n",
       "      <td>The Godfather</td>\n",
       "      <td>9.2</td>\n",
       "      <td>175</td>\n",
       "      <td>1972</td>\n",
       "      <td>Crime</td>\n",
       "    </tr>\n",
       "    <tr>\n",
       "      <th>7</th>\n",
       "      <td>Fight club</td>\n",
       "      <td>8.8</td>\n",
       "      <td>139</td>\n",
       "      <td>1999</td>\n",
       "      <td>Drama</td>\n",
       "    </tr>\n",
       "    <tr>\n",
       "      <th>8</th>\n",
       "      <td>Assassin Ninja</td>\n",
       "      <td>10.0</td>\n",
       "      <td>180</td>\n",
       "      <td>2015</td>\n",
       "      <td>Action</td>\n",
       "    </tr>\n",
       "    <tr>\n",
       "      <th>9</th>\n",
       "      <td>Bad boy</td>\n",
       "      <td>10.0</td>\n",
       "      <td>180</td>\n",
       "      <td>2019</td>\n",
       "      <td>Comedie</td>\n",
       "    </tr>\n",
       "    <tr>\n",
       "      <th>10</th>\n",
       "      <td>Super Man</td>\n",
       "      <td>10.0</td>\n",
       "      <td>160</td>\n",
       "      <td>2011</td>\n",
       "      <td>Action</td>\n",
       "    </tr>\n",
       "    <tr>\n",
       "      <th>11</th>\n",
       "      <td>Thor</td>\n",
       "      <td>10.0</td>\n",
       "      <td>180</td>\n",
       "      <td>2022</td>\n",
       "      <td>Action</td>\n",
       "    </tr>\n",
       "    <tr>\n",
       "      <th>12</th>\n",
       "      <td>Hulk</td>\n",
       "      <td>10.0</td>\n",
       "      <td>180</td>\n",
       "      <td>2017</td>\n",
       "      <td>Action</td>\n",
       "    </tr>\n",
       "    <tr>\n",
       "      <th>13</th>\n",
       "      <td>Lucky Luck</td>\n",
       "      <td>5.0</td>\n",
       "      <td>80</td>\n",
       "      <td>1999</td>\n",
       "      <td>Adventure</td>\n",
       "    </tr>\n",
       "    <tr>\n",
       "      <th>14</th>\n",
       "      <td>Batman</td>\n",
       "      <td>10.0</td>\n",
       "      <td>180</td>\n",
       "      <td>2021</td>\n",
       "      <td>Action</td>\n",
       "    </tr>\n",
       "    <tr>\n",
       "      <th>15</th>\n",
       "      <td>Bob l_eponge</td>\n",
       "      <td>10.0</td>\n",
       "      <td>180</td>\n",
       "      <td>2009</td>\n",
       "      <td>Action</td>\n",
       "    </tr>\n",
       "    <tr>\n",
       "      <th>16</th>\n",
       "      <td>Blanche Neige</td>\n",
       "      <td>2.5</td>\n",
       "      <td>140</td>\n",
       "      <td>2001</td>\n",
       "      <td>Adventure</td>\n",
       "    </tr>\n",
       "    <tr>\n",
       "      <th>17</th>\n",
       "      <td>Fantastic Four</td>\n",
       "      <td>10.0</td>\n",
       "      <td>180</td>\n",
       "      <td>2015</td>\n",
       "      <td>Action</td>\n",
       "    </tr>\n",
       "    <tr>\n",
       "      <th>18</th>\n",
       "      <td>Avengers</td>\n",
       "      <td>10.0</td>\n",
       "      <td>180</td>\n",
       "      <td>2022</td>\n",
       "      <td>Action</td>\n",
       "    </tr>\n",
       "    <tr>\n",
       "      <th>19</th>\n",
       "      <td>Harry Potter</td>\n",
       "      <td>9.0</td>\n",
       "      <td>180</td>\n",
       "      <td>2018</td>\n",
       "      <td>Adventure</td>\n",
       "    </tr>\n",
       "  </tbody>\n",
       "</table>\n",
       "</div>"
      ],
      "text/plain": [
       "                      Name  Rating  Duration  Year      Genre\n",
       "0   Naruto : Road of ninja    10.0       180  2010     Action\n",
       "1                   Boruto    10.0        90  2022     Action\n",
       "2                   Avatar    10.0        90  2009  Adventure\n",
       "3             Nicky Larson     8.5       180  1999     Action\n",
       "4                  Vikings     7.0       120  1958      Drama\n",
       "5            Mortal Combat    10.0       120  2015     Action\n",
       "6            The Godfather     9.2       175  1972      Crime\n",
       "7               Fight club     8.8       139  1999      Drama\n",
       "8           Assassin Ninja    10.0       180  2015     Action\n",
       "9                  Bad boy    10.0       180  2019    Comedie\n",
       "10               Super Man    10.0       160  2011     Action\n",
       "11                    Thor    10.0       180  2022     Action\n",
       "12                    Hulk    10.0       180  2017     Action\n",
       "13              Lucky Luck     5.0        80  1999  Adventure\n",
       "14                  Batman    10.0       180  2021     Action\n",
       "15            Bob l_eponge    10.0       180  2009     Action\n",
       "16           Blanche Neige     2.5       140  2001  Adventure\n",
       "17          Fantastic Four    10.0       180  2015     Action\n",
       "18                Avengers    10.0       180  2022     Action\n",
       "19            Harry Potter     9.0       180  2018  Adventure"
      ]
     },
     "execution_count": 19,
     "metadata": {},
     "output_type": "execute_result"
    }
   ],
   "source": [
    "url = 'http://127.0.0.1:5000/read_file_csv'\n",
    "data = {'file_name': 'List of the movie.csv'}\n",
    "response = requests.get(url, json = data)\n",
    "print(response.json())\n",
    "json_data = response.json()\n",
    "Liste_of_movie = pd.read_json(json_data['Notification']) \n",
    "Liste_of_movie"
   ]
  },
  {
   "attachments": {},
   "cell_type": "markdown",
   "metadata": {},
   "source": [
    "## Section 3:  Request to edit a file csv created\n",
    "1. url receives the link of the task to perform ==> edit a file csv,\n",
    "2. file_name: must receive the name of the file,\n",
    "3. columns: must receive the same name of each column of the file as created at the beginnig,\n",
    "4. dataset (rows): must receive the new content of each column."
   ]
  },
  {
   "cell_type": "code",
   "execution_count": 20,
   "metadata": {},
   "outputs": [
    {
     "name": "stdout",
     "output_type": "stream",
     "text": [
      "{'Notification': 'New line added with success, good job, go to the previous section to see the update :) !'}\n"
     ]
    }
   ],
   "source": [
    "url = 'http://127.0.0.1:5000/edit_file_csv'\n",
    "columns = ['Name', 'Rating', 'Duration', 'Year', 'Genre']\n",
    "value_add = [{'Name': 'Black adam', 'Rating': 10, 'Duration' : 120, 'Year': 2022,'Genre': 'Action' }]\n",
    "data = {'file_name': 'List of the movie.csv',  'columns': columns, 'value_add': value_add}\n",
    "response = requests.put(url, json = data)\n",
    "print(response.json())\n"
   ]
  },
  {
   "attachments": {},
   "cell_type": "markdown",
   "metadata": {},
   "source": [
    "## Section 4:  Request to select one row to another row in the file\n",
    "1. start_value : must be given a positive integer value desired,\n",
    "2. end_value : must be given a positive integer wanted,\n",
    "3. url receives the link of the task to perform ==> select one row to another row in the file,\n",
    "4. file_name: must receive the name of the file. \n"
   ]
  },
  {
   "cell_type": "code",
   "execution_count": 21,
   "metadata": {},
   "outputs": [
    {
     "name": "stdout",
     "output_type": "stream",
     "text": [
      "{'Notification': '{\"Name\":{\"1\":\"Boruto\",\"2\":\"Avatar\",\"3\":\"Nicky Larson\",\"4\":\"Vikings\",\"5\":\"Mortal Combat\",\"6\":\"The Godfather\",\"7\":\"Fight club\"},\"Rating\":{\"1\":10.0,\"2\":10.0,\"3\":8.5,\"4\":7.0,\"5\":10.0,\"6\":9.2,\"7\":8.8},\"Duration\":{\"1\":90,\"2\":90,\"3\":180,\"4\":120,\"5\":120,\"6\":175,\"7\":139},\"Year\":{\"1\":2022,\"2\":2009,\"3\":1999,\"4\":1958,\"5\":2015,\"6\":1972,\"7\":1999},\"Genre\":{\"1\":\"Action\",\"2\":\"Adventure\",\"3\":\"Action\",\"4\":\"Drama\",\"5\":\"Action\",\"6\":\"Crime\",\"7\":\"Drama\"}}'}\n"
     ]
    },
    {
     "data": {
      "text/html": [
       "<div>\n",
       "<style scoped>\n",
       "    .dataframe tbody tr th:only-of-type {\n",
       "        vertical-align: middle;\n",
       "    }\n",
       "\n",
       "    .dataframe tbody tr th {\n",
       "        vertical-align: top;\n",
       "    }\n",
       "\n",
       "    .dataframe thead th {\n",
       "        text-align: right;\n",
       "    }\n",
       "</style>\n",
       "<table border=\"1\" class=\"dataframe\">\n",
       "  <thead>\n",
       "    <tr style=\"text-align: right;\">\n",
       "      <th></th>\n",
       "      <th>Name</th>\n",
       "      <th>Rating</th>\n",
       "      <th>Duration</th>\n",
       "      <th>Year</th>\n",
       "      <th>Genre</th>\n",
       "    </tr>\n",
       "  </thead>\n",
       "  <tbody>\n",
       "    <tr>\n",
       "      <th>1</th>\n",
       "      <td>Boruto</td>\n",
       "      <td>10.0</td>\n",
       "      <td>90</td>\n",
       "      <td>2022</td>\n",
       "      <td>Action</td>\n",
       "    </tr>\n",
       "    <tr>\n",
       "      <th>2</th>\n",
       "      <td>Avatar</td>\n",
       "      <td>10.0</td>\n",
       "      <td>90</td>\n",
       "      <td>2009</td>\n",
       "      <td>Adventure</td>\n",
       "    </tr>\n",
       "    <tr>\n",
       "      <th>3</th>\n",
       "      <td>Nicky Larson</td>\n",
       "      <td>8.5</td>\n",
       "      <td>180</td>\n",
       "      <td>1999</td>\n",
       "      <td>Action</td>\n",
       "    </tr>\n",
       "    <tr>\n",
       "      <th>4</th>\n",
       "      <td>Vikings</td>\n",
       "      <td>7.0</td>\n",
       "      <td>120</td>\n",
       "      <td>1958</td>\n",
       "      <td>Drama</td>\n",
       "    </tr>\n",
       "    <tr>\n",
       "      <th>5</th>\n",
       "      <td>Mortal Combat</td>\n",
       "      <td>10.0</td>\n",
       "      <td>120</td>\n",
       "      <td>2015</td>\n",
       "      <td>Action</td>\n",
       "    </tr>\n",
       "    <tr>\n",
       "      <th>6</th>\n",
       "      <td>The Godfather</td>\n",
       "      <td>9.2</td>\n",
       "      <td>175</td>\n",
       "      <td>1972</td>\n",
       "      <td>Crime</td>\n",
       "    </tr>\n",
       "    <tr>\n",
       "      <th>7</th>\n",
       "      <td>Fight club</td>\n",
       "      <td>8.8</td>\n",
       "      <td>139</td>\n",
       "      <td>1999</td>\n",
       "      <td>Drama</td>\n",
       "    </tr>\n",
       "  </tbody>\n",
       "</table>\n",
       "</div>"
      ],
      "text/plain": [
       "            Name  Rating  Duration  Year      Genre\n",
       "1         Boruto    10.0        90  2022     Action\n",
       "2         Avatar    10.0        90  2009  Adventure\n",
       "3   Nicky Larson     8.5       180  1999     Action\n",
       "4        Vikings     7.0       120  1958      Drama\n",
       "5  Mortal Combat    10.0       120  2015     Action\n",
       "6  The Godfather     9.2       175  1972      Crime\n",
       "7     Fight club     8.8       139  1999      Drama"
      ]
     },
     "execution_count": 21,
     "metadata": {},
     "output_type": "execute_result"
    }
   ],
   "source": [
    "start_value = int(input('Select start value'))\n",
    "end_value = int(input('Select end value'))\n",
    "\n",
    "url = 'http://127.0.0.1:5000/read_select_line'\n",
    "data = {'file_name': 'List of the movie.csv', 'start_value': start_value, 'end_value': end_value}\n",
    "response = requests.put(url, json = data)\n",
    "print(response.json())\n",
    "json_data = response.json()\n",
    "Range_selected = pd.read_json(json_data['Notification']) \n",
    "Range_selected"
   ]
  },
  {
   "attachments": {},
   "cell_type": "markdown",
   "metadata": {},
   "source": [
    "## Section 5:  Request to return filtered values with values less than x (send the name of the numeric column that will be filtered)\n",
    "1. value_x : must be given a positive integer value desired\n",
    "2. url receives the link of the task to perform ==> select range in file\n",
    "3. file_name : must receive the name of the file\n",
    "4. columns_numeric : must be given a name (str ==> example : 'Rating') of the column who countain the numerical values in the file. "
   ]
  },
  {
   "cell_type": "code",
   "execution_count": 23,
   "metadata": {},
   "outputs": [
    {
     "name": "stdout",
     "output_type": "stream",
     "text": [
      "{'Notification': '{\"Name\":{\"3\":\"Nicky Larson\",\"4\":\"Vikings\",\"6\":\"The Godfather\",\"7\":\"Fight club\",\"13\":\"Lucky Luck\",\"16\":\"Blanche Neige\"},\"Rating\":{\"3\":8.5,\"4\":7.0,\"6\":9.2,\"7\":8.8,\"13\":5.0,\"16\":2.5},\"Duration\":{\"3\":180,\"4\":120,\"6\":175,\"7\":139,\"13\":80,\"16\":140},\"Year\":{\"3\":1999,\"4\":1958,\"6\":1972,\"7\":1999,\"13\":1999,\"16\":2001},\"Genre\":{\"3\":\"Action\",\"4\":\"Drama\",\"6\":\"Crime\",\"7\":\"Drama\",\"13\":\"Adventure\",\"16\":\"Adventure\"}}'}\n"
     ]
    },
    {
     "data": {
      "text/html": [
       "<div>\n",
       "<style scoped>\n",
       "    .dataframe tbody tr th:only-of-type {\n",
       "        vertical-align: middle;\n",
       "    }\n",
       "\n",
       "    .dataframe tbody tr th {\n",
       "        vertical-align: top;\n",
       "    }\n",
       "\n",
       "    .dataframe thead th {\n",
       "        text-align: right;\n",
       "    }\n",
       "</style>\n",
       "<table border=\"1\" class=\"dataframe\">\n",
       "  <thead>\n",
       "    <tr style=\"text-align: right;\">\n",
       "      <th></th>\n",
       "      <th>Name</th>\n",
       "      <th>Rating</th>\n",
       "      <th>Duration</th>\n",
       "      <th>Year</th>\n",
       "      <th>Genre</th>\n",
       "    </tr>\n",
       "  </thead>\n",
       "  <tbody>\n",
       "    <tr>\n",
       "      <th>3</th>\n",
       "      <td>Nicky Larson</td>\n",
       "      <td>8.5</td>\n",
       "      <td>180</td>\n",
       "      <td>1999</td>\n",
       "      <td>Action</td>\n",
       "    </tr>\n",
       "    <tr>\n",
       "      <th>4</th>\n",
       "      <td>Vikings</td>\n",
       "      <td>7.0</td>\n",
       "      <td>120</td>\n",
       "      <td>1958</td>\n",
       "      <td>Drama</td>\n",
       "    </tr>\n",
       "    <tr>\n",
       "      <th>6</th>\n",
       "      <td>The Godfather</td>\n",
       "      <td>9.2</td>\n",
       "      <td>175</td>\n",
       "      <td>1972</td>\n",
       "      <td>Crime</td>\n",
       "    </tr>\n",
       "    <tr>\n",
       "      <th>7</th>\n",
       "      <td>Fight club</td>\n",
       "      <td>8.8</td>\n",
       "      <td>139</td>\n",
       "      <td>1999</td>\n",
       "      <td>Drama</td>\n",
       "    </tr>\n",
       "    <tr>\n",
       "      <th>13</th>\n",
       "      <td>Lucky Luck</td>\n",
       "      <td>5.0</td>\n",
       "      <td>80</td>\n",
       "      <td>1999</td>\n",
       "      <td>Adventure</td>\n",
       "    </tr>\n",
       "    <tr>\n",
       "      <th>16</th>\n",
       "      <td>Blanche Neige</td>\n",
       "      <td>2.5</td>\n",
       "      <td>140</td>\n",
       "      <td>2001</td>\n",
       "      <td>Adventure</td>\n",
       "    </tr>\n",
       "  </tbody>\n",
       "</table>\n",
       "</div>"
      ],
      "text/plain": [
       "             Name  Rating  Duration  Year      Genre\n",
       "3    Nicky Larson     8.5       180  1999     Action\n",
       "4         Vikings     7.0       120  1958      Drama\n",
       "6   The Godfather     9.2       175  1972      Crime\n",
       "7      Fight club     8.8       139  1999      Drama\n",
       "13     Lucky Luck     5.0        80  1999  Adventure\n",
       "16  Blanche Neige     2.5       140  2001  Adventure"
      ]
     },
     "execution_count": 23,
     "metadata": {},
     "output_type": "execute_result"
    }
   ],
   "source": [
    "value_x = int(input('Plesase, select one value'))\n",
    "\n",
    "url = 'http://127.0.0.1:5000/select_range'\n",
    "data = {'file_name': 'List of the movie.csv' , 'value_x': value_x, 'columns_numeric': 'Year'}\n",
    "response = requests.put(url, json = data)\n",
    "print(response.json())\n",
    "json_data = response.json()\n",
    "filter_list = pd.read_json(json_data['Notification'])\n",
    "filter_list"
   ]
  }
 ],
 "metadata": {
  "kernelspec": {
   "display_name": "base",
   "language": "python",
   "name": "python3"
  },
  "language_info": {
   "codemirror_mode": {
    "name": "ipython",
    "version": 3
   },
   "file_extension": ".py",
   "mimetype": "text/x-python",
   "name": "python",
   "nbconvert_exporter": "python",
   "pygments_lexer": "ipython3",
   "version": "3.10.9"
  },
  "orig_nbformat": 4
 },
 "nbformat": 4,
 "nbformat_minor": 2
}
