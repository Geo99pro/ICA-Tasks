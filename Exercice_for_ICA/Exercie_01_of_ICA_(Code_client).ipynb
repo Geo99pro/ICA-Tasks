{
 "cells": [
  {
   "attachments": {},
   "cell_type": "markdown",
   "metadata": {},
   "source": [
    "### Source who help me to do this part : https://www.tresfacile.net/la-bibliotheque-python-requests/"
   ]
  },
  {
   "attachments": {
    "image.png": {
     "image/png": "[encoded data removed]"
    }
   },
   "cell_type": "markdown",
   "metadata": {},
   "source": [
    "![image.png](attachment:image.png)"
   ]
  },
  {
   "cell_type": "code",
   "execution_count": null,
   "metadata": {},
   "outputs": [],
   "source": [
    "import requests"
   ]
  },
  {
   "attachments": {},
   "cell_type": "markdown",
   "metadata": {},
   "source": [
    "## Section 1:  \n",
    "1. url receives the link of the task to perform ==> create a file,\n",
    "2. file_name : must receive the name of the file to create,\n",
    "3. content_of_the_file : must receive the text that must be passed in the file.\n"
   ]
  },
  {
   "cell_type": "code",
   "execution_count": null,
   "metadata": {},
   "outputs": [],
   "source": [
    "url = 'http://127.0.0.1:5000/create_file'\n",
    "data = {'file_name': 'My first file', 'content_of_the_file': 'Hello ! There are someone here ? '}\n",
    "response = requests.post(url, json = data)\n",
    "print(response.json())"
   ]
  },
  {
   "attachments": {},
   "cell_type": "markdown",
   "metadata": {},
   "source": [
    "## Section 2\n",
    "1. url receives the link of the assignment to perform ==> read the content of the file,\n",
    "2. file_name : must receive the name of the file to read."
   ]
  },
  {
   "cell_type": "code",
   "execution_count": null,
   "metadata": {},
   "outputs": [],
   "source": [
    "url = 'http://127.0.0.1:5000/read_file'\n",
    "data = {'file_name': 'My first file'}\n",
    "response = requests.get(url, json = data)\n",
    "print(response.json())"
   ]
  },
  {
   "attachments": {},
   "cell_type": "markdown",
   "metadata": {},
   "source": [
    "## Section 3\n",
    "1. url receives the link of the task to perform ==> edit the existing file,\n",
    "2. file_name : must receive the name and the extention (.txt) of the file we want to editate,\n",
    "3. content_of_the_file : must receive the new text that must be passed in the file."
   ]
  },
  {
   "cell_type": "code",
   "execution_count": null,
   "metadata": {},
   "outputs": [],
   "source": [
    "url = 'http://127.0.0.1:5000/editar_file'\n",
    "data = {'file_name': 'My first file.txt', 'content_of_the_file': 'Hello my dear !' }\n",
    "response = requests.put(url, json = data)\n",
    "print(response.json())"
   ]
  },
  {
   "attachments": {},
   "cell_type": "markdown",
   "metadata": {},
   "source": [
    "## Section 4\n",
    "1. url receives the link of the task to perform ==> delet the existing file,\n",
    "2. file_name : must receive the name and the extention (.txt) of the file we want to delete.\n",
    "\n",
    "**NB : The name of the file must be equal as that one who was created previously.**"
   ]
  },
  {
   "cell_type": "code",
   "execution_count": null,
   "metadata": {},
   "outputs": [],
   "source": [
    "url = 'http://127.0.0.1:5000/delete_file'\n",
    "data = {'file_name': 'My first file.txt' }\n",
    "response = requests.delete(url, json = data)\n",
    "print(response.json())"
   ]
  }
 ],
 "metadata": {
  "kernelspec": {
   "display_name": "base",
   "language": "python",
   "name": "python3"
  },
  "language_info": {
   "codemirror_mode": {
    "name": "ipython",
    "version": 3
   },
   "file_extension": ".py",
   "mimetype": "text/x-python",
   "name": "python",
   "nbconvert_exporter": "python",
   "pygments_lexer": "ipython3",
   "version": "3.9.12"
  },
  "orig_nbformat": 4
 },
 "nbformat": 4,
 "nbformat_minor": 2
}
